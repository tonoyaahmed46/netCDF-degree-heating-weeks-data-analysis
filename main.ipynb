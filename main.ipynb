{
 "cells": [
  {
   "cell_type": "code",
   "execution_count": null,
   "id": "86394d59-56ab-4fb5-b486-a24bdd43981a",
   "metadata": {},
   "outputs": [],
   "source": [
    "import os\n",
    "import numpy as np\n",
    "import pandas as pd\n",
    "import cdsapi\n",
    "import netCDF4\n",
    "from netCDF4 import num2date\n",
    "from scipy.io import netcdf"
   ]
  },
  {
   "cell_type": "code",
   "execution_count": null,
   "id": "3bb0adbd-b6ed-49d7-99b2-9f37913fa7c0",
   "metadata": {},
   "outputs": [],
   "source": [
    "file = netCDF4.Dataset('insert_nc_file_here', 'r')"
   ]
  },
  {
   "cell_type": "markdown",
   "id": "6393be45",
   "metadata": {},
   "source": [
    "# Unpacking NetCDF files"
   ]
  },
  {
   "cell_type": "code",
   "execution_count": null,
   "id": "a2cf752f",
   "metadata": {},
   "outputs": [],
   "source": [
    "#view nested file structure and sample metadata\n",
    "file.variables"
   ]
  },
  {
   "cell_type": "code",
   "execution_count": null,
   "id": "0092a784",
   "metadata": {},
   "outputs": [],
   "source": [
    "#display initial unprocessed data \n",
    "dhw = file.variables['degree_heating_week']  \n",
    "data = dhw[:]\n",
    "data"
   ]
  },
  {
   "cell_type": "code",
   "execution_count": null,
   "id": "2599a3ca",
   "metadata": {},
   "outputs": [],
   "source": [
    "#sample observations\n",
    "data[0][0][1]"
   ]
  },
  {
   "cell_type": "code",
   "execution_count": null,
   "id": "bf439403",
   "metadata": {},
   "outputs": [],
   "source": [
    "#check dimensions\n",
    "for dname, d in file.dimensions.items():\n",
    "    print(d)"
   ]
  },
  {
   "cell_type": "markdown",
   "id": "23cfced4",
   "metadata": {},
   "source": [
    "# Sample observations using geographic restrictions"
   ]
  },
  {
   "cell_type": "code",
   "execution_count": null,
   "id": "ad8586db",
   "metadata": {},
   "outputs": [],
   "source": [
    "lat = file.variables['lat'][:]\n",
    "lon = file.variables['lon'][:] \n",
    "\n",
    "# isolated data regarding the Palmyra Islands using a coordinate based bounding box\n",
    "lat_min = 5.5\n",
    "lat_max = 7.0\n",
    "lon_min = -163.0\n",
    "lon_max = -161.5\n",
    "\n",
    "lat_inds = np.where((lat >= lat_min) & (lat <= lat_max))[0]\n",
    "lon_inds = np.where((lon >= lon_min) & (lon <= lon_max))[0]\n",
    "\n",
    "degree_heating_week = file.variables['degree_heating_week'][:, lat_inds, lon_inds]\n",
    "\n",
    "print(degree_heating_week)"
   ]
  },
  {
   "cell_type": "markdown",
   "id": "ac6f640e",
   "metadata": {},
   "source": [
    "# Converting data to tabular format"
   ]
  },
  {
   "cell_type": "code",
   "execution_count": null,
   "id": "e272829c",
   "metadata": {},
   "outputs": [],
   "source": [
    "#retrieving dhw, time, longitude, and latitude data \n",
    "dhw = file.variables['degree_heating_week']\n",
    "time_dim, lat_dim, lon_dim = dhw.get_dims()\n",
    "time_var = file.variables[time_dim.name]\n",
    "times = num2date(time_var[:], time_var.units)\n",
    "latitudes = file.variables[lat_dim.name][:]\n",
    "longitudes = file.variables[lon_dim.name][:]\n",
    "\n",
    "#storing output file\n",
    "output_dir = './'\n",
    "filename = os.path.join(output_dir, 'output_table.csv')\n",
    "\n",
    "#creating empty datagrids to store  data \n",
    "times_grid, latitudes_grid, longitudes_grid = [\n",
    "    x.flatten() for x in np.meshgrid(\n",
    "    times, latitudes, longitudes, indexing='ij')]\n",
    "\n",
    "#unwrapping parsed data and writing into tabular format\n",
    "df = pd.DataFrame({\n",
    "    'time': [t.isoformat() for t in times_grid],\n",
    "    'latitude': latitudes_grid,\n",
    "    'longitude': longitudes_grid,\n",
    "    'dhw': dhw[:].flatten()})\n",
    "\n",
    "#storing in output file and viewing example output \n",
    "df.to_csv(filename, index=False)\n",
    "example_output = df[df[\"dhw\"]>0]\n",
    "example_output = example_output.reset_index().drop(columns = [\"index\"])\n",
    "example_output"
   ]
  },
  {
   "cell_type": "code",
   "execution_count": null,
   "id": "cd4efe56",
   "metadata": {},
   "outputs": [],
   "source": [
    "#checking final dimensions \n",
    "df.shape[0] * df.shape[1] * 2"
   ]
  }
 ],
 "metadata": {
  "kernelspec": {
   "display_name": "Python 3 (ipykernel)",
   "language": "python",
   "name": "python3"
  },
  "language_info": {
   "codemirror_mode": {
    "name": "ipython",
    "version": 3
   },
   "file_extension": ".py",
   "mimetype": "text/x-python",
   "name": "python",
   "nbconvert_exporter": "python",
   "pygments_lexer": "ipython3",
   "version": "3.9.13"
  }
 },
 "nbformat": 4,
 "nbformat_minor": 5
}
